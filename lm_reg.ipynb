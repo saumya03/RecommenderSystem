
RE8 <- read.csv("C:\\Realestate\\CleanedRE.csv", header=TRUE,
                stringsAsFactors =FALSE,
                strip.white =TRUE,
                sep = ',', na.strings=c("","NA"))
#colSums(is.na(RE8))


TH <- read.csv("C:\\Realestate\\TH.csv", header=TRUE,
               stringsAsFactors =FALSE,
               strip.white =TRUE,
               sep = ',', na.strings=c("","NA"))
TU <- read.csv("C:\\Realestate\\TU.csv", header=TRUE,
               stringsAsFactors =FALSE,
               strip.white =TRUE,
               sep = ',', na.strings=c("","NA"))
UH <- read.csv("C:\\Realestate\\UH.csv", header=TRUE,
               stringsAsFactors =FALSE,
               strip.white =TRUE,
               sep = ',', na.strings=c("","NA"))


#################################Linear Regression#####################

#No need to put sum in every function and see NA values, just do aggr function to visualize all at once, graphical representation of colSums(is.na(restate))
library(VIM)
aggr(restate, prop = F, numbers = T)
#Linear Regression
#cor of Rooms is medium
str(RE8)
#RE8
#COR OF ROOMS IS MODERATE
cov(RE8$Price,RE8$Rooms)
cor(RE8$Price,RE8$Rooms)
#COR OF Bedroom2 IS LOW
cov(RE8$Price,RE8$Bedroom2)
cor(RE8$Price,RE8$Bedroom2)
#COR OF Bathroom IS LOW
cov(RE8$Price,RE8$Bathroom)
cor(RE8$Price,RE8$Bathroom)
#COR OF Landsize IS LOW
cov(RE8$Price,RE8$Landsize)
cor(RE8$Price,RE8$Landsize)
#COR OF BuildingArea IS LOW
cov(RE8$Price,RE8$BuildingArea)
cor(RE8$Price,RE8$BuildingArea)
#COR OF YearBuilt IS LOW
cov(RE8$Price,RE8$YearBuilt)
cor(RE8$Price,RE8$YearBuilt)

#UH
#COR OF ROOMS IS MODERATE
cor(UH$Price,UH$Rooms)
cor(UH$Price,UH$Bedroom2)
cor(UH$Price,UH$Bathroom)
cor(UH$Price,UH$Landsize)
cor(UH$Price,UH$BuildingArea)
cor(UH$Price,UH$YearBuilt)

#TH
#COR OF ALL VARIABLES ARE LOW
cor(TH$Price,TH$Rooms)
cor(TH$Price,TH$Bedroom2)
cor(TH$Price,TH$Bathroom)
cor(TH$Price,TH$Landsize)
cor(TH$Price,TH$BuildingArea)
cor(TH$Price,TH$YearBuilt)

#TU
#COR OF ROOMS IS MODERATE
cor(TU$Price,TU$Rooms)
cor(TU$Price,TU$Bedroom2)
cor(TU$Price,TU$Bathroom)
cor(TU$Price,TU$Landsize)
cor(TU$Price,TU$BuildingArea)
cor(TU$Price,TU$YearBuilt)

#Calculating linear model regression:

#RE8
#Details of Suburb
#p value is good, its a good parameter
#30% of sample in Suburb is good
RE8.Suburb <- lm(RE8$Price~RE8$Suburb, data=RE8)
summary(RE8.Suburb)
#Details of Rooms
#22% of sample in Rooms is good
RE8.Rooms <- lm(RE8$Price~RE8$Rooms, data=RE8)
summary(RE8.Rooms)
#Details of Type
#18% of sample in Type is good
RE8.Type<- lm(RE8$Price~RE8$Type, data=RE8)
summary(RE8.Type)
#Details of Method
#1.34% of sample in Method is good
RE8.Method<- lm(RE8$Price~RE8$Method, data=RE8)
summary(RE8.Method)
#Details of Bedroom2
#10% of sample in Bedroom2 is good
RE8.Bedroom2<- lm(RE8$Price~RE8$Bedroom2, data=RE8)
summary(RE8.Bedroom2)
#Details of Bathroom
#10% of sample in Bathroom is good
RE8.Bathroom<- lm(RE8$Price~RE8$Bathroom, data=RE8)
summary(RE8.Bathroom)
#Details of Landsize
#2.9% of sample in Landsize is good
RE8.Landsize<- lm(RE8$Price~RE8$Landsize, data=RE8)
summary(RE8.Landsize)
#Details of BuildingArea
#10% of sample in BuildingArea is good
RE8.BuildingArea<- lm(RE8$Price~RE8$BuildingArea, data=RE8)
summary(RE8.BuildingArea)
#Details of YearBuilt
#6% of sample in YearBuilt is good
RE8.YearBuilt<- lm(RE8$Price~RE8$YearBuilt, data=RE8)
summary(RE8.YearBuilt)
#Details of CouncilArea
#28% of sample in CouncilArea is good
RE8.CouncilArea<- lm(RE8$Price~RE8$CouncilArea, data=RE8)
summary(RE8.CouncilArea)
#Details of Lattitude
#12% of sample in Lattitude is good
RE8.Lattitude<- lm(RE8$Price~RE8$Lattitude, data=RE8)
summary(RE8.Lattitude)

#UH
#Details of Suburb
#p value is good, its a good parameter
#36% of sample in Suburb is good
UH.Suburb <- lm(UH$Price~UH$Suburb, data=UH)
summary(UH.Suburb)
#Details of Rooms
#p value is good, its a good parameter
#22% of sample in Rooms is good
UH.Rooms<- lm(UH$Price~UH$Rooms, data=UH)
summary(UH.Rooms)
#Details of Type
#p value is good, its a good parameter
#19% of sample in Type is good
UH.Type<- lm(UH$Price~UH$Type, data=UH)
summary(UH.Type)
#Details of Method
#p value is good, its a good parameter
#1% of sample in Method is good
UH.Method<- lm(UH$Price~UH$Method, data=UH)
summary(UH.Method)
#Details of CouncilArea
#p value is good, its a good parameter
#27% of sample in CouncilArea is good
UH.CouncilArea<- lm(UH$Price~UH$CouncilArea, data=UH)
summary(UH.CouncilArea)

#TH
##Parameters Suburb and CouncilArea is good in TH

#Details of Suburb
#p value is good, its a good parameter
#56% of sample in Suburb is good
TH.Suburb <- lm(TH$Price~TH$Suburb, data=TH)
summary(TH.Suburb)
#Details of Rooms
#p value is good, its a good parameter
#11% of sample in Rooms is good
TH.Rooms <- lm(TH$Price~TH$Rooms, data=TH)
summary(TH.Rooms)
#Details of Type
#p value is good, its a good parameter
#4% of sample in Type is good
TH.Type <- lm(TH$Price~TH$Type, data=TH)
summary(TH.Type)
#Details of Method
#p value is good, its a good parameter
#1% of sample in Method is good
TH.Method <- lm(TH$Price~TH$Method, data=TH)
summary(TH.Method)
#Details of CouncilArea
#p value is good, its a good parameter
#40% of sample in CouncilArea is good
TH.CouncilArea <- lm(TH$Price~TH$CouncilArea, data=TH)
summary(TH.CouncilArea)

#TU
names(RE8)
#Details of Suburb
#p value is good, its a good parameter
#36% of sample in Suburb is good
TU.Suburb <- lm(TU$Price~TU$Suburb, data=TU)
summary(TU.Suburb)
#Details of Rooms
#p value is good, its a good parameter
#35% of sample in Rooms is good
TU.Rooms <- lm(TU$Price~TU$Rooms, data=TU)
summary(TU.Rooms)
#Details of Type
#p value is good, its a good parameter
#15% of sample in Type is good
TU.Type <- lm(TU$Price~TU$Type, data=TU)
summary(TU.Type)
#Details of Method
#p value is good, its a good parameter
#2.6% of sample in Method is good
TU.Method <- lm(TU$Price~TU$Method, data=TU)
summary(TU.Method)
#Details of CouncilArea
#p value is good, its a good parameter
#29% of sample in CouncilArea is good
TU.CouncilArea <- lm(TU$Price~TU$CouncilArea, data=TU)
summary(TU.CouncilArea)

#observe predited /fitted value for price for RE8:
distPred <- predict(details_cal,RE8)
distPred
a <- data.frame(Rating = c$rating , Calories = c$calories, fitted_or_expectedvalue = distPred)
a