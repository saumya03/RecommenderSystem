
RE8 <- read.csv("C:\\Realestate\\CleanedRE.csv", header=TRUE,
                    stringsAsFactors =FALSE,
                    strip.white =TRUE,
                    sep = ',', na.strings=c("","NA"))
#colSums(is.na(RE8))


TH <- read.csv("C:\\Realestate\\TH.csv", header=TRUE,
                stringsAsFactors =FALSE,
                strip.white =TRUE,
                sep = ',', na.strings=c("","NA"))
TU <- read.csv("C:\\Realestate\\TU.csv", header=TRUE,
               stringsAsFactors =FALSE,
               strip.white =TRUE,
               sep = ',', na.strings=c("","NA"))
UH <- read.csv("C:\\Realestate\\UH.csv", header=TRUE,
               stringsAsFactors =FALSE,
               strip.white =TRUE,
               sep = ',', na.strings=c("","NA"))

# colSums(is.na(RE8))
table(restate$Rooms)
#str(RE7)
#table(RE8$Method)
#######################
#UNIVARIATE ANALYSIS#
library(psych) #for knowing st deviation
##ON RE8
#names(RE8)
#str(RE8)
describe(RE8$Rooms)
describe(RE8$Price)
describe(RE8$Bedroom2)
describe(RE8$Landsize)
table(RE8$Method)
dim(RE8)
summary(RE8)
#View(RE8)
str(RE8)
library(pastecs) #for knowing variance, coefficient variance=st deviation/mean

stat.desc(RE8$Rooms)
stat.desc(RE8$Price)
stat.desc(RE8$Bedroom2)
stat.desc(RE8$Landsize)
hist(RE8$Rooms)
hist(RE8$Price)
hist(RE8$Bedroom2)
hist(RE8$Landsize)
boxplot(RE8$Rooms)
boxplot(RE8$Price)
boxplot(RE8$Bedroom2)
boxplot(RE8$Landsize)
##On UH
describe(UH$Rooms)
describe(UH$Bedroom2)
describe(UH$Landsize)
describe(UH$Price)
#table(UH$Method)
#dim(HU)
summary(UH)
stat.desc(UH$Rooms)
stat.desc(UH$Bedroom2)
stat.desc(UH$Landsize)
stat.desc(UH$Price)
hist(UH$Rooms)
hist(UH$Bedroom2)
hist(UH$Landsize)
hist(UH$Price)
boxplot(UH$Rooms)
boxplot(UH$Bedroom2)
boxplot(UH$Landsize)
boxplot(UH$Price)

##On TH
describe(TH$Rooms)
describe(TH$Bedroom2)
describe(TH$Landsize)
describe(TH$Price)
table(TH$Method)
dim(TH)
summary(TH)
stat.desc(TH$Rooms)
stat.desc(TH$Bedroom2)
stat.desc(TH$Landsize)
stat.desc(TH$Price)
hist(TH$Rooms)
hist(TH$Bedroom2)
hist(TH$Landsize)
hist(TH$Price)
boxplot(TH$Rooms)
boxplot(TH$Bedroom2)
boxplot(TH$Landsize)
boxplot(TH$Price)

##On TU
describe(TU$Rooms)
describe(TU$Bedroom2)
describe(TU$Landsize)
describe(TU$Price)
table(TU$Method)
dim(TU)
summary(TU)
stat.desc(TU$Rooms)
stat.desc(TU$Bedroom2)
stat.desc(TU$Landsize)
stat.desc(TU$Price)
hist(TU$Rooms)
hist(TU$Bedroom2)
hist(TU$Landsize)
hist(TU$Price)
boxplot(TU$Rooms)
boxplot(TU$Bedroom2)
boxplot(TU$Landsize)
boxplot(TU$Price)

########################################


#library(sqldf)
#TopSeller100 <- sqldf("select SellerG, count(SellerG) as S1 FROM RE7 
                     # GROUP BY SellerG
                      #HAVING S1 > 100
                      #ORDER BY S1
                      #DESC")
#############################################################
###############################BIVARIATE ANALYSIS################################
#ANOVA MODEL
library("dplyr")
#RE8 #Type 
##anova is good for Type
RE8.Type <- aov(RE8$Price ~ RE8$Type, data=RE8)
summary(aov(RE8$Price ~ RE8$Type, data=RE8))
TukeyHSD(RE8.Type)
chisq.test(RE8$Price, RE8$Method, correct=FALSE)
#RE8 #Method
##anova is good for Method
RE8.Method <- aov(RE8$Price ~ RE8$Method, data=RE8)
summary(aov(RE8$Price ~ RE8$Method, data=RE8))
TukeyHSD(RE8.Method)
#RE8 #CouncilArea
##anova is good for CouncilArea
RE8.CouncilArea <- aov(RE8$Price ~ RE8$CouncilArea, data=RE8)
summary(aov(RE8$Price ~ RE8$CouncilArea, data=RE8))
TukeyHSD(RE8.CouncilArea)

#TH, TU, UH
#TH #Type
##anova is good for Type
TH.Type <- aov(TH$Price ~ TH$Type, data=TH)
summary(aov(TH$Price ~ TH$Type, data=TH))
TukeyHSD(TH.Type)
#TH #Method
##anova is good for Method
TH.Method <- aov(TH$Price ~ TH$Method, data=TH)
summary(aov(TH$Price ~ TH$Method, data=TH))
TukeyHSD(TH.Method)
#TH #CouncilArea
##anova is good for CouncilArea
TH.CouncilArea <- aov(TH$Price ~ TH$CouncilArea, data=TH)
summary(aov(TH$Price ~ TH$CouncilArea, data=TH))
TukeyHSD(TH.CouncilArea)

#TU #Type
TU.Type <- aov(TU$Price ~ TU$Type, data=TU)
summary(aov(TU$Price ~ TU$Type, data=TU))
TukeyHSD(TU.Type)
#TU #Method
TU.Method <- aov(TU$Price ~ TU$Method, data=TU)
summary(aov(TU$Price ~ TU$Method, data=TU))
TukeyHSD(TU.Method)
#TU #CouncilArea
TU.CouncilArea <- aov(TU$Price ~ TU$CouncilArea, data=TU)
summary(aov(TU$Price ~ TU$CouncilArea, data=TU))
TukeyHSD(TU.CouncilArea)

#UH #Type
UH.Type <- aov(UH$Price ~ UH$Type, data=UH)
summary(aov(UH$Price ~ UH$Type, data=UH))
TukeyHSD(UH.Type)
#UH #Method
UH.Method <- aov(UH$Price ~ UH$Method, data=UH)
summary(aov(UH$Price ~ UH$Method, data=UH))
TukeyHSD(UH.Method)
#UH #CouncilArea
UH.CouncilArea <- aov(UH$Price ~ UH$CouncilArea, data=UH)
summary(aov(UH$Price ~ UH$CouncilArea, data=UH))
TukeyHSD(UH.CouncilArea)






